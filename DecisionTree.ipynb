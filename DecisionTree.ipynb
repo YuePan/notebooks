{
 "cells": [
  {
   "cell_type": "code",
   "execution_count": 1,
   "metadata": {
    "collapsed": false
   },
   "outputs": [
    {
     "data": {
      "text/plain": [
       "(150, 4)"
      ]
     },
     "execution_count": 1,
     "metadata": {},
     "output_type": "execute_result"
    }
   ],
   "source": [
    "from sklearn.datasets import load_iris\n",
    "\n",
    "iris = load_iris()\n",
    "iris.data.shape"
   ]
  },
  {
   "cell_type": "code",
   "execution_count": 13,
   "metadata": {
    "collapsed": false
   },
   "outputs": [
    {
     "data": {
      "text/plain": [
       "(array([50,  0,  0,  0,  0, 50,  0,  0,  0, 50]),\n",
       " array([ 0. ,  0.2,  0.4,  0.6,  0.8,  1. ,  1.2,  1.4,  1.6,  1.8,  2. ]))"
      ]
     },
     "execution_count": 13,
     "metadata": {},
     "output_type": "execute_result"
    }
   ],
   "source": [
    "import numpy as np\n",
    "np.histogram(iris.target)"
   ]
  },
  {
   "cell_type": "code",
   "execution_count": 14,
   "metadata": {
    "collapsed": true
   },
   "outputs": [],
   "source": [
    "from sklearn import tree\n",
    "clf = tree.DecisionTreeClassifier()\n",
    "clf = clf.fit(iris.data, iris.target)"
   ]
  },
  {
   "cell_type": "code",
   "execution_count": 21,
   "metadata": {
    "collapsed": true
   },
   "outputs": [],
   "source": [
    "from sklearn.externals.six import StringIO\n",
    "with open('iris.dot', 'w') as f:\n",
    "    f = tree.export_graphviz(clf, out_file=f)"
   ]
  },
  {
   "cell_type": "markdown",
   "metadata": {},
   "source": [
    "###Implement a CART"
   ]
  },
  {
   "cell_type": "code",
   "execution_count": 113,
   "metadata": {
    "collapsed": false
   },
   "outputs": [],
   "source": [
    "import numpy as np\n",
    "\n",
    "def binSplitData(X, y, feat, val):\n",
    "    L = np.nonzero(X[:, feat]<=val)\n",
    "    R = np.nonzero(X[:, feat]>val)\n",
    "    return X[L], y[L], X[R], y[R]\n",
    "\n",
    "def chooseBestSplit(X, y, min_s=0.1, min_n=5):\n",
    "    #if all the target variables are the same: quit and return value\n",
    "    if not np.any(np.subtract(y, y[0])):\n",
    "        return None, np.mean(y)\n",
    "    n, m = np.shape(X)\n",
    "    S = np.var(y)*n\n",
    "    bestS = np.inf; bestFeat = None; bestVal = np.mean(y)\n",
    "    for feat in range(m):\n",
    "        for val in set(X[:, feat]):\n",
    "            lX, ly, rX, ry = binSplitData(X, y, feat, val)\n",
    "            if (len(ly) < min_s) or (len(ry) < min_s):\n",
    "                continue\n",
    "            newS = np.var(ly)*len(ly) + np.var(ry)*len(ry)\n",
    "            if newS < bestS:\n",
    "                bestFeat = feat\n",
    "                bestVal = val\n",
    "                bestS = newS\n",
    "    #if the decrease (S-bestS) is less than a threshold don't do the split\n",
    "    if (S - bestS) < min_s:\n",
    "        return None, np.mean(y)\n",
    "    return bestFeat, bestVal\n",
    "\n",
    "def createTree(X, y, max_depth=10):\n",
    "    if max_depth == 0: return np.mean(y)\n",
    "    feat, val = chooseBestSplit(X, y)\n",
    "    if feat == None: return val\n",
    "    retTree = {}\n",
    "    retTree['spInd'] = feat\n",
    "    retTree['spVal'] = val\n",
    "    lX, ly, rX, ry = binSplitData(X, y, feat, val)\n",
    "    retTree['left'] = createTree(lX, ly, max_depth=max_depth-1)\n",
    "    retTree['right'] = createTree(rX, ry, max_depth=max_depth-1)\n",
    "    return retTree\n",
    "\n",
    "def isTree(obj):\n",
    "    return isinstance(obj, dict)\n",
    "\n",
    "def getMean(tree):\n",
    "    mean_right = getMean(tree['right']) if isTree(tree['right']) else tree['right']\n",
    "    mean_left = getMean(tree['left']) if isTree(tree['left']) else tree['left']\n",
    "    return (mean_right + mean_left) / 2.0\n",
    "\n",
    "def prune(tree, X, y):\n",
    "    if (len(y) == 0):\n",
    "        return getMean(tree)\n",
    "    if not isTree(tree):\n",
    "        return tree\n",
    "    lX, ly, rX, ry = binSplitData(X, y, tree['spInd'], tree['spVal'])\n",
    "    if isTree(tree['left']):\n",
    "        tree['left'] = prune(tree['left'], lX, ly)\n",
    "    if isTree(tree['right']):\n",
    "        tree['right'] = prune(tree['right'], rX, ry)\n",
    "    # if they are now both leaf nodes, see if we can merge them\n",
    "    if (not isTree(tree['left']) and not isTree(tree['right'])):\n",
    "        errNoMerge = sum(np.power(ly-tree['left'], 2)) + sum(np.power(ry-tree['right'], 2))\n",
    "        mean_tree = (tree['left'] + tree['right']) / 2.0\n",
    "        errMerge = sum(np.power(y-mean_tree, 2))\n",
    "        if errMerge < errNoMerge:\n",
    "            print('Merge happens')\n",
    "            return mean_tree\n",
    "    return tree\n",
    "\n",
    "def evaluate(tree, x):\n",
    "    if not isTree(tree): return tree\n",
    "    if x[tree['spInd']] <= tree['spVal']:\n",
    "        if isTree(tree['left']): return evaluate(tree['left'], x)\n",
    "        else: return tree['left']\n",
    "    else:\n",
    "        if isTree(tree['right']): return evaluate(tree['right'], x)\n",
    "        else: return tree['right']\n",
    "        \n",
    "def score(tree, X, y):\n",
    "    n = np.shape(X)[0]\n",
    "    pred = [evaluate(tree, X[i]) for i in range(n)]\n",
    "    return sum(np.power(pred-y, 2))/n"
   ]
  },
  {
   "cell_type": "code",
   "execution_count": 104,
   "metadata": {
    "collapsed": true
   },
   "outputs": [],
   "source": [
    "from sklearn.cross_validation import train_test_split\n",
    "\n",
    "X_train, X_test, y_train, y_test = train_test_split(iris.data, iris.target)"
   ]
  },
  {
   "cell_type": "code",
   "execution_count": 105,
   "metadata": {
    "collapsed": false
   },
   "outputs": [],
   "source": [
    "tree = createTree(X_train, y_train)"
   ]
  },
  {
   "cell_type": "code",
   "execution_count": 106,
   "metadata": {
    "collapsed": false
   },
   "outputs": [
    {
     "name": "stdout",
     "output_type": "stream",
     "text": [
      "{'spInd': 2, 'spVal': 1.8999999999999999, 'right': {'spInd': 3, 'spVal': 1.7, 'right': 2.0, 'left': {'spInd': 2, 'spVal': 4.9000000000000004, 'right': {'spInd': 3, 'spVal': 1.5, 'right': 1.0, 'left': 2.0}, 'left': {'spInd': 3, 'spVal': 1.6000000000000001, 'right': 2.0, 'left': 1.0}}}, 'left': 0.0}\n"
     ]
    }
   ],
   "source": [
    "print(tree)"
   ]
  },
  {
   "cell_type": "code",
   "execution_count": 107,
   "metadata": {
    "collapsed": false
   },
   "outputs": [
    {
     "data": {
      "text/plain": [
       "0.052631578947368418"
      ]
     },
     "execution_count": 107,
     "metadata": {},
     "output_type": "execute_result"
    }
   ],
   "source": [
    "score(tree, X_test, y_test)"
   ]
  },
  {
   "cell_type": "code",
   "execution_count": 108,
   "metadata": {
    "collapsed": false
   },
   "outputs": [
    {
     "name": "stdout",
     "output_type": "stream",
     "text": [
      "Merge happens\n"
     ]
    }
   ],
   "source": [
    "tree2 = prune(tree, X_test, y_test)"
   ]
  },
  {
   "cell_type": "code",
   "execution_count": 109,
   "metadata": {
    "collapsed": false
   },
   "outputs": [
    {
     "name": "stdout",
     "output_type": "stream",
     "text": [
      "{'spInd': 2, 'spVal': 1.8999999999999999, 'right': {'spInd': 3, 'spVal': 1.7, 'right': 2.0, 'left': {'spInd': 2, 'spVal': 4.9000000000000004, 'right': 1.5, 'left': {'spInd': 3, 'spVal': 1.6000000000000001, 'right': 2.0, 'left': 1.0}}}, 'left': 0.0}\n"
     ]
    }
   ],
   "source": [
    "print(tree2)"
   ]
  },
  {
   "cell_type": "code",
   "execution_count": 110,
   "metadata": {
    "collapsed": false
   },
   "outputs": [
    {
     "data": {
      "text/plain": [
       "0.032894736842105261"
      ]
     },
     "execution_count": 110,
     "metadata": {},
     "output_type": "execute_result"
    }
   ],
   "source": [
    "score(tree2, X_test, y_test)"
   ]
  },
  {
   "cell_type": "markdown",
   "metadata": {},
   "source": [
    "###Implement a GBRT"
   ]
  },
  {
   "cell_type": "code",
   "execution_count": 259,
   "metadata": {
    "collapsed": true
   },
   "outputs": [],
   "source": [
    "def gbrt(X, y, n_evaluator=10, learning_rate=1.0, max_depth=10):\n",
    "    n = np.shape(X)[0]\n",
    "    F = np.array([0]*n)\n",
    "    trees = []\n",
    "    for m in range(n_evaluator):\n",
    "        yr = y - F\n",
    "        tree = createTree(X, yr, max_depth)\n",
    "        trees.append(tree)\n",
    "        for i in range(n):\n",
    "            F[i] += learning_rate * evaluate(tree, X[i])\n",
    "    weights = [1 for i in range(n_evaluator)]\n",
    "    return trees, weights\n",
    "\n",
    "def predict(trees, weights, x):\n",
    "    return sum(weights[i]*evaluate(trees[i], x) for i in range(len(trees)))\n",
    "    "
   ]
  },
  {
   "cell_type": "code",
   "execution_count": 260,
   "metadata": {
    "collapsed": false
   },
   "outputs": [],
   "source": [
    "trees, weights = gbrt(iris.data, iris.target, n_evaluator=100, max_depth=2, learning_rate=1)"
   ]
  },
  {
   "cell_type": "code",
   "execution_count": 263,
   "metadata": {
    "collapsed": false
   },
   "outputs": [
    {
     "name": "stdout",
     "output_type": "stream",
     "text": [
      "[   {   'left': 0.0,\n",
      "        'right': {   'left': 1.0925925925925926,\n",
      "                     'right': 1.9782608695652173,\n",
      "                     'spInd': 3,\n",
      "                     'spVal': 1.7},\n",
      "        'spInd': 2,\n",
      "        'spVal': 1.8999999999999999},\n",
      "    {   'left': {   'left': 0.01020408163265306,\n",
      "                    'right': 0.66666666666666663,\n",
      "                    'spInd': 2,\n",
      "                    'spVal': 4.9000000000000004},\n",
      "        'right': {   'left': 0.66666666666666663,\n",
      "                     'right': 1.0,\n",
      "                     'spInd': 2,\n",
      "                     'spVal': 4.7999999999999998},\n",
      "        'spInd': 3,\n",
      "        'spVal': 1.7},\n",
      "    {   'left': 0.0,\n",
      "        'right': {   'left': 1.0,\n",
      "                     'right': 0.085714285714285715,\n",
      "                     'spInd': 0,\n",
      "                     'spVal': 4.9000000000000004},\n",
      "        'spInd': 2,\n",
      "        'spVal': 4.4000000000000004},\n",
      "    {   'left': 0.0,\n",
      "        'right': {   'left': 0.5,\n",
      "                     'right': 0.042553191489361701,\n",
      "                     'spInd': 3,\n",
      "                     'spVal': 1.6000000000000001},\n",
      "        'spInd': 2,\n",
      "        'spVal': 4.7000000000000002},\n",
      "    {   'left': 0.0,\n",
      "        'right': {   'left': 0.5,\n",
      "                     'right': 0.042553191489361701,\n",
      "                     'spInd': 3,\n",
      "                     'spVal': 1.6000000000000001},\n",
      "        'spInd': 2,\n",
      "        'spVal': 4.7000000000000002}]\n"
     ]
    }
   ],
   "source": [
    "import pprint\n",
    "pp = pprint.PrettyPrinter(indent=4)\n",
    "pp.pprint(trees[:5])"
   ]
  },
  {
   "cell_type": "code",
   "execution_count": 264,
   "metadata": {
    "collapsed": false
   },
   "outputs": [
    {
     "data": {
      "text/plain": [
       "132.6014074500012"
      ]
     },
     "execution_count": 264,
     "metadata": {},
     "output_type": "execute_result"
    }
   ],
   "source": [
    "sum(power(y_test[i] - predict(trees, weights, X_test[i]), 2) for i in range(len(y_test))) / len(y_test)"
   ]
  },
  {
   "cell_type": "code",
   "execution_count": 224,
   "metadata": {
    "collapsed": false
   },
   "outputs": [],
   "source": [
    "tree3 = createTree(iris.data, iris.target, max_depth=2)"
   ]
  },
  {
   "cell_type": "code",
   "execution_count": 225,
   "metadata": {
    "collapsed": false
   },
   "outputs": [
    {
     "data": {
      "text/plain": [
       "0.049696359949715968"
      ]
     },
     "execution_count": 225,
     "metadata": {},
     "output_type": "execute_result"
    }
   ],
   "source": [
    "sum(power(y_test[i] - evaluate(tree3, X_test[i]), 2) for i in range(len(y_test))) / len(y_test)"
   ]
  },
  {
   "cell_type": "code",
   "execution_count": null,
   "metadata": {
    "collapsed": true
   },
   "outputs": [],
   "source": []
  }
 ],
 "metadata": {
  "kernelspec": {
   "display_name": "Python 2",
   "language": "python",
   "name": "python2"
  },
  "language_info": {
   "codemirror_mode": {
    "name": "ipython",
    "version": 2
   },
   "file_extension": ".py",
   "mimetype": "text/x-python",
   "name": "python",
   "nbconvert_exporter": "python",
   "pygments_lexer": "ipython2",
   "version": "2.7.9"
  }
 },
 "nbformat": 4,
 "nbformat_minor": 0
}
