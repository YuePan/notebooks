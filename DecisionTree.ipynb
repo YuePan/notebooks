{
 "cells": [
  {
   "cell_type": "code",
   "execution_count": 12,
   "metadata": {
    "collapsed": false
   },
   "outputs": [
    {
     "data": {
      "text/plain": [
       "(150, 4)"
      ]
     },
     "execution_count": 12,
     "metadata": {},
     "output_type": "execute_result"
    }
   ],
   "source": [
    "from sklearn.datasets import load_iris\n",
    "\n",
    "iris = load_iris()\n",
    "iris.data.shape"
   ]
  },
  {
   "cell_type": "code",
   "execution_count": 13,
   "metadata": {
    "collapsed": false
   },
   "outputs": [
    {
     "data": {
      "text/plain": [
       "(array([50,  0,  0,  0,  0, 50,  0,  0,  0, 50]),\n",
       " array([ 0. ,  0.2,  0.4,  0.6,  0.8,  1. ,  1.2,  1.4,  1.6,  1.8,  2. ]))"
      ]
     },
     "execution_count": 13,
     "metadata": {},
     "output_type": "execute_result"
    }
   ],
   "source": [
    "import numpy as np\n",
    "np.histogram(iris.target)"
   ]
  },
  {
   "cell_type": "code",
   "execution_count": 14,
   "metadata": {
    "collapsed": true
   },
   "outputs": [],
   "source": [
    "from sklearn import tree\n",
    "clf = tree.DecisionTreeClassifier()\n",
    "clf = clf.fit(iris.data, iris.target)"
   ]
  },
  {
   "cell_type": "code",
   "execution_count": 21,
   "metadata": {
    "collapsed": true
   },
   "outputs": [],
   "source": [
    "from sklearn.externals.six import StringIO\n",
    "with open('iris.dot', 'w') as f:\n",
    "    f = tree.export_graphviz(clf, out_file=f)"
   ]
  },
  {
   "cell_type": "markdown",
   "metadata": {},
   "source": [
    "###Implement a CART"
   ]
  },
  {
   "cell_type": "code",
   "execution_count": 76,
   "metadata": {
    "collapsed": false
   },
   "outputs": [],
   "source": [
    "import numpy as np\n",
    "\n",
    "def binSplitData(X, y, feat, val):\n",
    "    L = np.nonzero(X[:, feat]<=val)\n",
    "    R = np.nonzero(X[:, feat]>val)\n",
    "    return X[L], y[L], X[R], y[R]\n",
    "\n",
    "def chooseBestSplit(X, y, min_s=0.1, min_n=5, leaf_func=np.mean):\n",
    "    #if all the target variables are the same: quit and return value\n",
    "    if not np.any(np.subtract(y, y[0])):\n",
    "        return None, leaf_func(y)\n",
    "    n, m = np.shape(X)\n",
    "    S = np.var(y)*n\n",
    "    bestS = np.inf; bestFeat = None; bestVal = np.mean(y)\n",
    "    for feat in range(m):\n",
    "        for val in set(X[:, feat]):\n",
    "            lX, ly, rX, ry = binSplitData(X, y, feat, val)\n",
    "            if (len(ly) < min_s) or (len(ry) < min_s):\n",
    "                continue\n",
    "            newS = np.var(ly)*len(ly) + np.var(ry)*len(ry)\n",
    "            if newS < bestS:\n",
    "                bestFeat = feat\n",
    "                bestVal = val\n",
    "                bestS = newS\n",
    "    #if the decrease (S-bestS) is less than a threshold don't do the split\n",
    "    if (S - bestS) < min_s:\n",
    "        return None, leaf_func(y)\n",
    "    return bestFeat, bestVal\n",
    "\n",
    "def createTree(X, y, max_depth=10, leaf_func=np.mean):\n",
    "    if max_depth == 0: return leaf_func(y)\n",
    "    feat, val = chooseBestSplit(X, y, leaf_func=leaf_func)\n",
    "    if feat == None: return val\n",
    "    retTree = {}\n",
    "    retTree['spInd'] = feat\n",
    "    retTree['spVal'] = val\n",
    "    lX, ly, rX, ry = binSplitData(X, y, feat, val)\n",
    "    retTree['left'] = createTree(lX, ly, max_depth=max_depth-1, leaf_func=leaf_func)\n",
    "    retTree['right'] = createTree(rX, ry, max_depth=max_depth-1, leaf_func=leaf_func)\n",
    "    return retTree\n",
    "\n",
    "def isTree(obj):\n",
    "    return isinstance(obj, dict)\n",
    "\n",
    "def getMean(tree):\n",
    "    mean_right = getMean(tree['right']) if isTree(tree['right']) else tree['right']\n",
    "    mean_left = getMean(tree['left']) if isTree(tree['left']) else tree['left']\n",
    "    return (mean_right + mean_left) / 2.0\n",
    "\n",
    "def prune(tree, X, y):\n",
    "    if (len(y) == 0):\n",
    "        return getMean(tree)\n",
    "    if not isTree(tree):\n",
    "        return tree\n",
    "    lX, ly, rX, ry = binSplitData(X, y, tree['spInd'], tree['spVal'])\n",
    "    if isTree(tree['left']):\n",
    "        tree['left'] = prune(tree['left'], lX, ly)\n",
    "    if isTree(tree['right']):\n",
    "        tree['right'] = prune(tree['right'], rX, ry)\n",
    "    # if they are now both leaf nodes, see if we can merge them\n",
    "    if (not isTree(tree['left']) and not isTree(tree['right'])):\n",
    "        errNoMerge = sum(np.power(ly-tree['left'], 2)) + sum(np.power(ry-tree['right'], 2))\n",
    "        mean_tree = (tree['left'] + tree['right']) / 2.0\n",
    "        errMerge = sum(np.power(y-mean_tree, 2))\n",
    "        if errMerge < errNoMerge:\n",
    "            print('Merge happens')\n",
    "            return mean_tree\n",
    "    return tree\n",
    "\n",
    "def evaluate(tree, x):\n",
    "    if not isTree(tree): return tree\n",
    "    if x[tree['spInd']] <= tree['spVal']:\n",
    "        if isTree(tree['left']): return evaluate(tree['left'], x)\n",
    "        else: return tree['left']\n",
    "    else:\n",
    "        if isTree(tree['right']): return evaluate(tree['right'], x)\n",
    "        else: return tree['right']\n",
    "        \n",
    "def score(tree, X, y):\n",
    "    n = np.shape(X)[0]\n",
    "    pred = [evaluate(tree, X[i]) for i in range(n)]\n",
    "    return sum(np.power(pred-y, 2))/n"
   ]
  },
  {
   "cell_type": "code",
   "execution_count": 104,
   "metadata": {
    "collapsed": true
   },
   "outputs": [],
   "source": [
    "from sklearn.cross_validation import train_test_split\n",
    "\n",
    "X_train, X_test, y_train, y_test = train_test_split(iris.data, iris.target)"
   ]
  },
  {
   "cell_type": "code",
   "execution_count": 105,
   "metadata": {
    "collapsed": false
   },
   "outputs": [],
   "source": [
    "tree = createTree(X_train, y_train)"
   ]
  },
  {
   "cell_type": "code",
   "execution_count": 106,
   "metadata": {
    "collapsed": false
   },
   "outputs": [
    {
     "name": "stdout",
     "output_type": "stream",
     "text": [
      "{'spInd': 2, 'spVal': 1.8999999999999999, 'right': {'spInd': 3, 'spVal': 1.7, 'right': 2.0, 'left': {'spInd': 2, 'spVal': 4.9000000000000004, 'right': {'spInd': 3, 'spVal': 1.5, 'right': 1.0, 'left': 2.0}, 'left': {'spInd': 3, 'spVal': 1.6000000000000001, 'right': 2.0, 'left': 1.0}}}, 'left': 0.0}\n"
     ]
    }
   ],
   "source": [
    "print(tree)"
   ]
  },
  {
   "cell_type": "code",
   "execution_count": 107,
   "metadata": {
    "collapsed": false
   },
   "outputs": [
    {
     "data": {
      "text/plain": [
       "0.052631578947368418"
      ]
     },
     "execution_count": 107,
     "metadata": {},
     "output_type": "execute_result"
    }
   ],
   "source": [
    "score(tree, X_test, y_test)"
   ]
  },
  {
   "cell_type": "code",
   "execution_count": 108,
   "metadata": {
    "collapsed": false
   },
   "outputs": [
    {
     "name": "stdout",
     "output_type": "stream",
     "text": [
      "Merge happens\n"
     ]
    }
   ],
   "source": [
    "tree2 = prune(tree, X_test, y_test)"
   ]
  },
  {
   "cell_type": "code",
   "execution_count": 109,
   "metadata": {
    "collapsed": false
   },
   "outputs": [
    {
     "name": "stdout",
     "output_type": "stream",
     "text": [
      "{'spInd': 2, 'spVal': 1.8999999999999999, 'right': {'spInd': 3, 'spVal': 1.7, 'right': 2.0, 'left': {'spInd': 2, 'spVal': 4.9000000000000004, 'right': 1.5, 'left': {'spInd': 3, 'spVal': 1.6000000000000001, 'right': 2.0, 'left': 1.0}}}, 'left': 0.0}\n"
     ]
    }
   ],
   "source": [
    "print(tree2)"
   ]
  },
  {
   "cell_type": "code",
   "execution_count": 110,
   "metadata": {
    "collapsed": false
   },
   "outputs": [
    {
     "data": {
      "text/plain": [
       "0.032894736842105261"
      ]
     },
     "execution_count": 110,
     "metadata": {},
     "output_type": "execute_result"
    }
   ],
   "source": [
    "score(tree2, X_test, y_test)"
   ]
  },
  {
   "cell_type": "markdown",
   "metadata": {},
   "source": [
    "###Implement a GBRT"
   ]
  },
  {
   "cell_type": "code",
   "execution_count": 7,
   "metadata": {
    "collapsed": true
   },
   "outputs": [],
   "source": [
    "# GBRT Regressor with LS loss \n",
    "def gbrt_regressor(X, y, n_evaluator=10, learning_rate=1.0, max_depth=10):\n",
    "    import numpy as np\n",
    "    n = np.shape(X)[0]\n",
    "    F = np.array([0]*n)\n",
    "    trees = []\n",
    "    for m in range(n_evaluator):\n",
    "        yr = y - F\n",
    "        tree = createTree(X, yr, max_depth=max_depth, leaf_func=np.mean)\n",
    "        trees.append(tree)\n",
    "        for i in range(n):\n",
    "            F[i] += learning_rate * evaluate(tree, X[i])\n",
    "    weights = [1 for i in range(n_evaluator)]\n",
    "    return trees, weights\n",
    "\n",
    "def predict(trees, weights, x):\n",
    "    return sum(weights[i]*evaluate(trees[i], x) for i in range(len(trees)))"
   ]
  },
  {
   "cell_type": "code",
   "execution_count": 77,
   "metadata": {
    "collapsed": true
   },
   "outputs": [],
   "source": [
    "# GBRT Classifier with multi-class Log loss\n",
    "\n",
    "def kLogLeaf(y):\n",
    "    return sum(y) / sum(np.abs(y)*(1-np.abs(y)))\n",
    "\n",
    "def gbrt_classifier(X, y, n_evaluator=10, learning_rate=1.0, max_depth=10):\n",
    "    import numpy as np\n",
    "    n_example = np.shape(X)[0]\n",
    "    classes = list(set(y))\n",
    "    k_class = len(classes)\n",
    "    k_val = (k_class-1.0)/k_class\n",
    "    F = np.zeros((n_example,k_class))\n",
    "    P = np.zeros((n_example,k_class))\n",
    "    treemat = []\n",
    "    for m in range(n_evaluator):\n",
    "        Fk = sum(np.exp(F[:, k]) for k in range(k_class))\n",
    "        trees = []\n",
    "        for k in range(k_class):\n",
    "            P[:,k] = np.exp(F[:,k]) / Fk\n",
    "            yk = (y==classes[k]).astype(float)\n",
    "            yr = yk - P[:,k] \n",
    "            tree = createTree(X, yr, max_depth=max_depth, leaf_func=kLogLeaf)\n",
    "            trees.append(tree)\n",
    "            for i in range(n_example):\n",
    "                F[i, k] += learning_rate * k_val * evaluate(tree, X[i])\n",
    "            #weights = [1 for i in range(n_evaluator)]\n",
    "        treemat.append(trees)\n",
    "    return treemat, classes\n",
    "\n",
    "def class_predict(treemat, classes, x):\n",
    "    V = np.exp([sum(evaluate(treemat[i][k], x) for i in range(len(treemat))) for k in range(len(classes))])\n",
    "    P = V / sum(V)\n",
    "    return zip(classes, P)"
   ]
  },
  {
   "cell_type": "code",
   "execution_count": 78,
   "metadata": {
    "collapsed": false
   },
   "outputs": [],
   "source": [
    "treemat, classes = gbrt_classifier(iris.data, iris.target, n_evaluator=100, max_depth=2, learning_rate=1)"
   ]
  },
  {
   "cell_type": "code",
   "execution_count": 79,
   "metadata": {
    "collapsed": false
   },
   "outputs": [
    {
     "name": "stdout",
     "output_type": "stream",
     "text": [
      "[   (0, 0.99661799585988931),\n",
      "    (1, 0.0020712791832223042),\n",
      "    (2, 0.001310724956888351)]\n",
      "[   (0, 0.99661799585988931),\n",
      "    (1, 0.0020712791832223042),\n",
      "    (2, 0.001310724956888351)]\n",
      "[   (0, 0.99661799585988931),\n",
      "    (1, 0.0020712791832223042),\n",
      "    (2, 0.001310724956888351)]\n",
      "[   (0, 0.99661799585988931),\n",
      "    (1, 0.0020712791832223042),\n",
      "    (2, 0.001310724956888351)]\n",
      "[   (0, 0.99661799585988931),\n",
      "    (1, 0.0020712791832223042),\n",
      "    (2, 0.001310724956888351)]\n",
      "[   (0, 0.0015967581634710678),\n",
      "    (1, 0.99676446842929267),\n",
      "    (2, 0.0016387734072361877)]\n",
      "[(0, 0.01017596030971833), (1, 0.97938032095431082), (2, 0.010443718735970928)]\n",
      "[   (0, 0.0056513508649954454),\n",
      "    (1, 0.065557422443763516),\n",
      "    (2, 0.92879122669124103)]\n",
      "[   (0, 0.0015967581634710678),\n",
      "    (1, 0.99676446842929267),\n",
      "    (2, 0.0016387734072361877)]\n",
      "[   (0, 0.0015967581634710678),\n",
      "    (1, 0.99676446842929267),\n",
      "    (2, 0.0016387734072361877)]\n",
      "[   (0, 0.001529345584626123),\n",
      "    (1, 0.0029922345759242162),\n",
      "    (2, 0.99547841983944962)]\n",
      "[   (0, 0.001529345584626123),\n",
      "    (1, 0.0029922345759242162),\n",
      "    (2, 0.99547841983944962)]\n",
      "[   (0, 0.001529345584626123),\n",
      "    (1, 0.0029922345759242162),\n",
      "    (2, 0.99547841983944962)]\n",
      "[   (0, 0.001529345584626123),\n",
      "    (1, 0.0029922345759242162),\n",
      "    (2, 0.99547841983944962)]\n",
      "[   (0, 0.001529345584626123),\n",
      "    (1, 0.0029922345759242162),\n",
      "    (2, 0.99547841983944962)]\n"
     ]
    }
   ],
   "source": [
    "import pprint\n",
    "pp = pprint.PrettyPrinter(indent=4)\n",
    "for i in range(0,150, 10): pp.pprint(class_predict(treemat, classes, iris.data[i]))"
   ]
  },
  {
   "cell_type": "code",
   "execution_count": 38,
   "metadata": {
    "collapsed": false
   },
   "outputs": [
    {
     "data": {
      "text/plain": [
       "(100, 3)"
      ]
     },
     "execution_count": 38,
     "metadata": {},
     "output_type": "execute_result"
    }
   ],
   "source": [
    "np.shape(treemat)"
   ]
  },
  {
   "cell_type": "code",
   "execution_count": 264,
   "metadata": {
    "collapsed": false
   },
   "outputs": [
    {
     "data": {
      "text/plain": [
       "132.6014074500012"
      ]
     },
     "execution_count": 264,
     "metadata": {},
     "output_type": "execute_result"
    }
   ],
   "source": [
    "sum(power(y_test[i] - predict(trees, weights, X_test[i]), 2) for i in range(len(y_test))) / len(y_test)"
   ]
  },
  {
   "cell_type": "code",
   "execution_count": 224,
   "metadata": {
    "collapsed": false
   },
   "outputs": [],
   "source": [
    "tree3 = createTree(iris.data, iris.target, max_depth=2)"
   ]
  },
  {
   "cell_type": "code",
   "execution_count": 225,
   "metadata": {
    "collapsed": false
   },
   "outputs": [
    {
     "data": {
      "text/plain": [
       "0.049696359949715968"
      ]
     },
     "execution_count": 225,
     "metadata": {},
     "output_type": "execute_result"
    }
   ],
   "source": [
    "sum(power(y_test[i] - evaluate(tree3, X_test[i]), 2) for i in range(len(y_test))) / len(y_test)"
   ]
  }
 ],
 "metadata": {
  "kernelspec": {
   "display_name": "Python 2",
   "language": "python",
   "name": "python2"
  },
  "language_info": {
   "codemirror_mode": {
    "name": "ipython",
    "version": 2
   },
   "file_extension": ".py",
   "mimetype": "text/x-python",
   "name": "python",
   "nbconvert_exporter": "python",
   "pygments_lexer": "ipython2",
   "version": "2.7.9"
  }
 },
 "nbformat": 4,
 "nbformat_minor": 0
}
