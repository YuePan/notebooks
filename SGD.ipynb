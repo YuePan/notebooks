{
 "cells": [
  {
   "cell_type": "code",
   "execution_count": null,
   "metadata": {
    "collapsed": true
   },
   "outputs": [],
   "source": [
    "import numpy as np\n",
    "\n",
    "# Gradient Boosting Regression Tree\n",
    "# y, X - samples, with shape (N,1) and (N, n) respectively\n",
    "# M - number of trees\n",
    "# J - number of terminate nodes\n",
    "# v - learning rate\n",
    "def gbrt(y, X, M=100, J=100, v=0.1):\n",
    "    pass\n",
    "\n",
    "# Regression Tree\n",
    "def rt"
   ]
  }
 ],
 "metadata": {
  "kernelspec": {
   "display_name": "Python 2",
   "language": "python",
   "name": "python2"
  },
  "language_info": {
   "codemirror_mode": {
    "name": "ipython",
    "version": 2
   },
   "file_extension": ".py",
   "mimetype": "text/x-python",
   "name": "python",
   "nbconvert_exporter": "python",
   "pygments_lexer": "ipython2",
   "version": "2.7.9"
  }
 },
 "nbformat": 4,
 "nbformat_minor": 0
}
